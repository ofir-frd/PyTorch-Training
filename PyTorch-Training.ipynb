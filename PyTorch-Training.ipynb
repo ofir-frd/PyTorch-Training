{
 "cells": [
  {
   "cell_type": "code",
   "execution_count": 1,
   "id": "df929ae2",
   "metadata": {},
   "outputs": [],
   "source": [
    "import torch\n",
    "import torchvision\n",
    "import torchvision.transforms as transforms\n",
    "\n",
    "# PyTorch TensorBoard support\n",
    "from torch.utils.tensorboard import SummaryWriter\n",
    "from datetime import datetime\n",
    "\n",
    "gpu_device = torch.device('cuda' if torch.cuda.is_available() else 'cpu')"
   ]
  },
  {
   "cell_type": "code",
   "execution_count": 2,
   "id": "19539e76",
   "metadata": {},
   "outputs": [
    {
     "name": "stdout",
     "output_type": "stream",
     "text": [
      "Training set has 60000 instances\n",
      "Validation set has 10000 instances\n"
     ]
    }
   ],
   "source": [
    "transform = transforms.Compose(\n",
    "    [transforms.ToTensor(),\n",
    "    transforms.Normalize((0.5,), (0.5,))])\n",
    "\n",
    "# Create datasets for training & validation, download if necessary\n",
    "training_set = torchvision.datasets.FashionMNIST('./data', train=True, transform=transform, download=True)\n",
    "validation_set = torchvision.datasets.FashionMNIST('./data', train=False, transform=transform, download=True)\n",
    "\n",
    "# Create data loaders for our datasets; shuffle for training, not for validation\n",
    "training_loader = torch.utils.data.DataLoader(training_set, batch_size=4, shuffle=True, num_workers=2)\n",
    "validation_loader = torch.utils.data.DataLoader(validation_set, batch_size=4, shuffle=False, num_workers=2)\n",
    "\n",
    "# Class labels\n",
    "classes = ('T-shirt/top', 'Trouser', 'Pullover', 'Dress', 'Coat',\n",
    "        'Sandal', 'Shirt', 'Sneaker', 'Bag', 'Ankle Boot')\n",
    "\n",
    "# Report split sizes\n",
    "print('Training set has {} instances'.format(len(training_set)))\n",
    "print('Validation set has {} instances'.format(len(validation_set)))"
   ]
  },
  {
   "cell_type": "code",
   "execution_count": 3,
   "id": "10084073",
   "metadata": {},
   "outputs": [
    {
     "name": "stdout",
     "output_type": "stream",
     "text": [
      "Shirt  Shirt  Bag  Ankle Boot\n"
     ]
    },
    {
     "data": {
      "image/png": "[encoded data removed]",
      "text/plain": [
       "<Figure size 432x288 with 1 Axes>"
      ]
     },
     "metadata": {
      "needs_background": "light"
     },
     "output_type": "display_data"
    }
   ],
   "source": [
    "import matplotlib.pyplot as plt\n",
    "import numpy as np\n",
    "\n",
    "# Helper function for inline image display\n",
    "def matplotlib_imshow(img, one_channel=False):\n",
    "    if one_channel:\n",
    "        img = img.mean(dim=0)\n",
    "    img = img / 2 + 0.5     # unnormalize\n",
    "    npimg = img.numpy()\n",
    "    if one_channel:\n",
    "        plt.imshow(npimg, cmap=\"Greys\")\n",
    "    else:\n",
    "        plt.imshow(np.transpose(npimg, (1, 2, 0)))\n",
    "\n",
    "dataiter = iter(training_loader)\n",
    "images, labels = dataiter.next()\n",
    "\n",
    "# Create a grid from the images and show them\n",
    "img_grid = torchvision.utils.make_grid(images)\n",
    "matplotlib_imshow(img_grid, one_channel=True)\n",
    "print('  '.join(classes[labels[j]] for j in range(4)))"
   ]
  },
  {
   "cell_type": "code",
   "execution_count": 4,
   "id": "e7e63310",
   "metadata": {},
   "outputs": [
    {
     "data": {
      "text/plain": [
       "GarmentClassifier(\n",
       "  (conv1): Conv2d(1, 6, kernel_size=(5, 5), stride=(1, 1))\n",
       "  (pool): MaxPool2d(kernel_size=2, stride=2, padding=0, dilation=1, ceil_mode=False)\n",
       "  (conv2): Conv2d(6, 16, kernel_size=(5, 5), stride=(1, 1))\n",
       "  (fc1): Linear(in_features=256, out_features=120, bias=True)\n",
       "  (fc2): Linear(in_features=120, out_features=84, bias=True)\n",
       "  (fc3): Linear(in_features=84, out_features=10, bias=True)\n",
       ")"
      ]
     },
     "execution_count": 4,
     "metadata": {},
     "output_type": "execute_result"
    }
   ],
   "source": [
    "import torch.nn as nn\n",
    "import torch.nn.functional as F\n",
    "\n",
    "# PyTorch models inherit from torch.nn.Module\n",
    "class GarmentClassifier(nn.Module):\n",
    "    def __init__(self):\n",
    "        super(GarmentClassifier, self).__init__()\n",
    "        self.conv1 = nn.Conv2d(1, 6, 5)\n",
    "        self.pool = nn.MaxPool2d(2, 2)\n",
    "        self.conv2 = nn.Conv2d(6, 16, 5)\n",
    "        self.fc1 = nn.Linear(16 * 4 * 4, 120)\n",
    "        self.fc2 = nn.Linear(120, 84)\n",
    "        self.fc3 = nn.Linear(84, 10)\n",
    "\n",
    "    def forward(self, x):\n",
    "        x = self.pool(F.relu(self.conv1(x)))\n",
    "        x = self.pool(F.relu(self.conv2(x)))\n",
    "        x = x.view(-1, 16 * 4 * 4)\n",
    "        x = F.relu(self.fc1(x))\n",
    "        x = F.relu(self.fc2(x))\n",
    "        x = self.fc3(x)\n",
    "        return x\n",
    "    \n",
    "\n",
    "model = GarmentClassifier()\n",
    "model.to(gpu_device)"
   ]
  },
  {
   "cell_type": "code",
   "execution_count": 5,
   "id": "ca4a99c4",
   "metadata": {},
   "outputs": [
    {
     "name": "stdout",
     "output_type": "stream",
     "text": [
      "tensor([[0.3448, 0.7366, 0.8516, 0.7672, 0.4143, 0.0642, 0.5802, 0.1868, 0.1177,\n",
      "         0.0934],\n",
      "        [0.2071, 0.9920, 0.5209, 0.8517, 0.2447, 0.4179, 0.7119, 0.4354, 0.9349,\n",
      "         0.5549],\n",
      "        [0.0746, 0.4303, 0.6484, 0.6492, 0.8019, 0.8340, 0.8582, 0.9551, 0.4422,\n",
      "         0.9209],\n",
      "        [0.9601, 0.8472, 0.2954, 0.7932, 0.0066, 0.3494, 0.8070, 0.5467, 0.6326,\n",
      "         0.0387]])\n",
      "tensor([1, 5, 3, 7])\n",
      "Total loss for this batch: 2.30232572555542\n"
     ]
    }
   ],
   "source": [
    "loss_fn = torch.nn.CrossEntropyLoss()\n",
    "\n",
    "# NB: Loss functions expect data in batches, so we're creating batches of 4\n",
    "# Represents the model's confidence in each of the 10 classes for a given input\n",
    "dummy_outputs = torch.rand(4, 10)\n",
    "# Represents the correct class among the 10 being tested\n",
    "dummy_labels = torch.tensor([1, 5, 3, 7])\n",
    "    \n",
    "print(dummy_outputs)\n",
    "print(dummy_labels)\n",
    "\n",
    "loss = loss_fn(dummy_outputs, dummy_labels)\n",
    "print('Total loss for this batch: {}'.format(loss.item()))"
   ]
  },
  {
   "cell_type": "code",
   "execution_count": 6,
   "id": "a33ce2ee",
   "metadata": {},
   "outputs": [],
   "source": [
    "# Optimizers specified in the torch.optim package\n",
    "optimizer = torch.optim.SGD(model.parameters(), lr=0.001, momentum=0.9)"
   ]
  },
  {
   "cell_type": "code",
   "execution_count": 7,
   "id": "46b89572",
   "metadata": {},
   "outputs": [],
   "source": [
    "def train_one_epoch(epoch_index, tb_writer):\n",
    "    running_loss = 0.\n",
    "    last_loss = 0.\n",
    "    \n",
    "    # Here, we use enumerate(training_loader) instead of\n",
    "    # iter(training_loader) so that we can track the batch\n",
    "    # index and do some intra-epoch reporting\n",
    "    for i, data in enumerate(training_loader):\n",
    "        # Every data instance is an input + label pair\n",
    "        inputs, labels = data\n",
    "        inputs, labels = inputs.cuda(), labels.cuda()\n",
    "        \n",
    "        # Zero your gradients for every batch!\n",
    "        optimizer.zero_grad()\n",
    "        \n",
    "        # Make predictions for this batch\n",
    "        outputs = model(inputs)\n",
    "        \n",
    "        # Compute the loss and its gradients\n",
    "        loss = loss_fn(outputs, labels)\n",
    "        loss.backward()\n",
    "        \n",
    "        # Adjust learning weights\n",
    "        optimizer.step()\n",
    "        \n",
    "        # Gather data and report\n",
    "        running_loss += loss.item()\n",
    "        if i % 1000 == 999:\n",
    "            last_loss = running_loss / 1000 # loss per batch\n",
    "            print('  batch {} loss: {}'.format(i + 1, last_loss))\n",
    "            tb_x = epoch_index * len(training_loader) + i + 1\n",
    "            tb_writer.add_scalar('Loss/train', last_loss, tb_x)\n",
    "            running_loss = 0.\n",
    "            \n",
    "    return last_loss"
   ]
  },
  {
   "cell_type": "code",
   "execution_count": 8,
   "id": "e6b8662f",
   "metadata": {},
   "outputs": [],
   "source": [
    "# Initializing in a separate cell so we can easily add more epochs to the same run\n",
    "timestamp = datetime.now().strftime('%Y%m%d_%H%M%S')\n",
    "writer = SummaryWriter('runs/fashion_trainer_{}'.format(timestamp))\n",
    "epoch_number = 0"
   ]
  },
  {
   "cell_type": "code",
   "execution_count": 11,
   "id": "da3f960f",
   "metadata": {},
   "outputs": [
    {
     "name": "stdout",
     "output_type": "stream",
     "text": [
      "EPOCH 1:\n",
      "  batch 1000 loss: 0.34142675344349116\n",
      "  batch 2000 loss: 0.33361508362102904\n",
      "  batch 3000 loss: 0.3138755531463685\n",
      "  batch 4000 loss: 0.3301543775653845\n",
      "  batch 5000 loss: 0.3153283346219978\n",
      "  batch 6000 loss: 0.3536972541637224\n",
      "  batch 7000 loss: 0.3460314855745819\n",
      "  batch 8000 loss: 0.30833076106919904\n",
      "  batch 9000 loss: 0.3492617435671564\n",
      "  batch 10000 loss: 0.28685787605187213\n",
      "  batch 11000 loss: 0.3107488745431001\n",
      "  batch 12000 loss: 0.3286488775793114\n",
      "  batch 13000 loss: 0.3296175934848434\n",
      "  batch 14000 loss: 0.33441021226267914\n",
      "  batch 15000 loss: 0.3161384101134172\n",
      "LOSS train 0.3161384101134172 valid 0.3469837009906769\n",
      "EPOCH 2:\n",
      "  batch 1000 loss: 0.3043999958402419\n",
      "  batch 2000 loss: 0.301279064962102\n",
      "  batch 3000 loss: 0.28685270163568205\n",
      "  batch 4000 loss: 0.29998292147593747\n",
      "  batch 5000 loss: 0.2974503346410056\n",
      "  batch 6000 loss: 0.33637022154769514\n",
      "  batch 7000 loss: 0.31147024688596137\n",
      "  batch 8000 loss: 0.3165929398670887\n",
      "  batch 9000 loss: 0.29135195281764026\n",
      "  batch 10000 loss: 0.2803454301105812\n",
      "  batch 11000 loss: 0.292510970968382\n",
      "  batch 12000 loss: 0.2888855449756957\n",
      "  batch 13000 loss: 0.2968181311719527\n",
      "  batch 14000 loss: 0.29737159871280894\n",
      "  batch 15000 loss: 0.29283543975699283\n",
      "LOSS train 0.29283543975699283 valid 0.3177058696746826\n",
      "EPOCH 3:\n",
      "  batch 1000 loss: 0.2760155467423174\n",
      "  batch 2000 loss: 0.2676805654400778\n",
      "  batch 3000 loss: 0.26466794258214943\n",
      "  batch 4000 loss: 0.2820588059740112\n",
      "  batch 5000 loss: 0.27057074721549723\n",
      "  batch 6000 loss: 0.26917268718088055\n",
      "  batch 7000 loss: 0.2951431471679971\n",
      "  batch 8000 loss: 0.2882782090046676\n",
      "  batch 9000 loss: 0.26595745820411687\n",
      "  batch 10000 loss: 0.29703233316123806\n",
      "  batch 11000 loss: 0.29894730623559007\n",
      "  batch 12000 loss: 0.28727148033530103\n",
      "  batch 13000 loss: 0.2844378067103207\n",
      "  batch 14000 loss: 0.27636966585762274\n",
      "  batch 15000 loss: 0.28458611619498697\n",
      "LOSS train 0.28458611619498697 valid 0.31682470440864563\n",
      "EPOCH 4:\n",
      "  batch 1000 loss: 0.25697459171403897\n",
      "  batch 2000 loss: 0.27851398959555446\n",
      "  batch 3000 loss: 0.2654783004902247\n",
      "  batch 4000 loss: 0.252802908196848\n",
      "  batch 5000 loss: 0.27041747973882957\n",
      "  batch 6000 loss: 0.2413210486762473\n",
      "  batch 7000 loss: 0.24900218565572504\n",
      "  batch 8000 loss: 0.27781906884799173\n",
      "  batch 9000 loss: 0.27610662170107025\n",
      "  batch 10000 loss: 0.2644007666231519\n",
      "  batch 11000 loss: 0.2603385053956581\n",
      "  batch 12000 loss: 0.2809928152687962\n",
      "  batch 13000 loss: 0.26813075080577436\n",
      "  batch 14000 loss: 0.266692835420944\n",
      "  batch 15000 loss: 0.2702809493241266\n",
      "LOSS train 0.2702809493241266 valid 0.31363147497177124\n",
      "EPOCH 5:\n",
      "  batch 1000 loss: 0.25468960513676303\n",
      "  batch 2000 loss: 0.2467424375024684\n",
      "  batch 3000 loss: 0.26582333203320935\n",
      "  batch 4000 loss: 0.25055252231540814\n",
      "  batch 5000 loss: 0.24080813677309834\n",
      "  batch 6000 loss: 0.25531545661087873\n",
      "  batch 7000 loss: 0.22889040447540993\n",
      "  batch 8000 loss: 0.28082623640758153\n",
      "  batch 9000 loss: 0.2589373032626681\n",
      "  batch 10000 loss: 0.25829631050867463\n",
      "  batch 11000 loss: 0.26069261681142963\n",
      "  batch 12000 loss: 0.242992670114465\n",
      "  batch 13000 loss: 0.24924408937496537\n",
      "  batch 14000 loss: 0.2520060752586819\n",
      "  batch 15000 loss: 0.26032151992544733\n",
      "LOSS train 0.26032151992544733 valid 0.3038395941257477\n"
     ]
    }
   ],
   "source": [
    "EPOCHS = 5\n",
    "\n",
    "best_vloss = 1_000_000.\n",
    "\n",
    "for epoch in range(EPOCHS):\n",
    "    print('EPOCH {}:'.format(epoch_number + 1))\n",
    "    \n",
    "    # Make sure gradient tracking is on, and do a pass over the data\n",
    "    model.train(True)\n",
    "    avg_loss = train_one_epoch(epoch_number, writer)\n",
    "    \n",
    "    # We don't need gradients on to do reporting\n",
    "    model.train(False)\n",
    "    \n",
    "    running_vloss = 0.0\n",
    "    for i, vdata in enumerate(validation_loader):\n",
    "        vinputs, vlabels = vdata\n",
    "        vinputs, vlabels = vinputs.cuda(), vlabels.cuda()\n",
    "        voutputs = model(vinputs)\n",
    "        vloss = loss_fn(voutputs, vlabels)\n",
    "        running_vloss += vloss\n",
    "    \n",
    "    avg_vloss = running_vloss / (i + 1)\n",
    "    print('LOSS train {} valid {}'.format(avg_loss, avg_vloss))\n",
    "    \n",
    "    # Log the running loss averaged per batch\n",
    "    # for both training and validation\n",
    "    writer.add_scalars('Training vs. Validation Loss',\n",
    "                    { 'Training' : avg_loss, 'Validation' : avg_vloss },\n",
    "                    epoch_number + 1)\n",
    "    writer.flush()\n",
    "    \n",
    "    # Track best performance, and save the model's state\n",
    "    if avg_vloss < best_vloss:\n",
    "        best_vloss = avg_vloss\n",
    "        model_path = 'model_{}_{}'.format(timestamp, epoch_number)\n",
    "        torch.save(model.state_dict(), model_path)\n",
    "    \n",
    "    epoch_number += 1"
   ]
  },
  {
   "cell_type": "code",
   "execution_count": null,
   "id": "262f5ec3",
   "metadata": {},
   "outputs": [],
   "source": []
  }
 ],
 "metadata": {
  "kernelspec": {
   "display_name": "Python 3",
   "language": "python",
   "name": "python3"
  },
  "language_info": {
   "codemirror_mode": {
    "name": "ipython",
    "version": 3
   },
   "file_extension": ".py",
   "mimetype": "text/x-python",
   "name": "python",
   "nbconvert_exporter": "python",
   "pygments_lexer": "ipython3",
   "version": "3.8.8"
  }
 },
 "nbformat": 4,
 "nbformat_minor": 5
}
